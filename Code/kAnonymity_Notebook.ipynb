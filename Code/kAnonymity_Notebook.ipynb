{
 "cells": [
  {
   "cell_type": "code",
   "execution_count": 1,
   "metadata": {},
   "outputs": [],
   "source": [
    "import pandas as pd\n",
    "import seaborn as sns\n",
    "import matplotlib.pyplot as plt\n",
    "import numpy as np\n",
    "import numpy.random as npr\n",
    "import random"
   ]
  },
  {
   "cell_type": "code",
   "execution_count": 2,
   "metadata": {},
   "outputs": [
    {
     "data": {
      "text/html": [
       "<div>\n",
       "<style scoped>\n",
       "    .dataframe tbody tr th:only-of-type {\n",
       "        vertical-align: middle;\n",
       "    }\n",
       "\n",
       "    .dataframe tbody tr th {\n",
       "        vertical-align: top;\n",
       "    }\n",
       "\n",
       "    .dataframe thead th {\n",
       "        text-align: right;\n",
       "    }\n",
       "</style>\n",
       "<table border=\"1\" class=\"dataframe\">\n",
       "  <thead>\n",
       "    <tr style=\"text-align: right;\">\n",
       "      <th></th>\n",
       "      <th>Study ID</th>\n",
       "      <th>Patient ID</th>\n",
       "      <th>Sample ID</th>\n",
       "      <th>Age in years</th>\n",
       "      <th>Absolute Neutrophil Count (G/L)</th>\n",
       "      <th>BM Blast (%)</th>\n",
       "      <th>Chromosomal Status at TP53</th>\n",
       "      <th>CNACS Called Chr Arm Gain</th>\n",
       "      <th>CNACS Called Chr Arm Loss</th>\n",
       "      <th>CNACS Called Chr Arm Upd</th>\n",
       "      <th>...</th>\n",
       "      <th>Overall Survival (Months)</th>\n",
       "      <th>Overall Survival Status</th>\n",
       "      <th>PB Blast (%)</th>\n",
       "      <th>Platelet (G/L)</th>\n",
       "      <th>Ringed Sideroblast (%)</th>\n",
       "      <th>Number of Samples Per Patient</th>\n",
       "      <th>Sex</th>\n",
       "      <th>TMB (nonsynonymous)</th>\n",
       "      <th>White Blood Cell Count (G/L)</th>\n",
       "      <th>WHO 2016 Classification</th>\n",
       "    </tr>\n",
       "  </thead>\n",
       "  <tbody>\n",
       "    <tr>\n",
       "      <th>0</th>\n",
       "      <td>mds_iwg_2022</td>\n",
       "      <td>E-H-100000</td>\n",
       "      <td>E-H-100000-T1-1-D1-1</td>\n",
       "      <td>57.0</td>\n",
       "      <td>4.65</td>\n",
       "      <td>3.0</td>\n",
       "      <td>normal</td>\n",
       "      <td>NaN</td>\n",
       "      <td>5q</td>\n",
       "      <td>NaN</td>\n",
       "      <td>...</td>\n",
       "      <td>69.830137</td>\n",
       "      <td>0:LIVING</td>\n",
       "      <td>0.0</td>\n",
       "      <td>406.0</td>\n",
       "      <td>NaN</td>\n",
       "      <td>1</td>\n",
       "      <td>Female</td>\n",
       "      <td>23.920896</td>\n",
       "      <td>7.50</td>\n",
       "      <td>MDS-del5q</td>\n",
       "    </tr>\n",
       "    <tr>\n",
       "      <th>1</th>\n",
       "      <td>mds_iwg_2022</td>\n",
       "      <td>E-H-100001</td>\n",
       "      <td>E-H-100001-T1-1-D1-1</td>\n",
       "      <td>56.0</td>\n",
       "      <td>2.88</td>\n",
       "      <td>2.0</td>\n",
       "      <td>normal</td>\n",
       "      <td>NaN</td>\n",
       "      <td>5q</td>\n",
       "      <td>NaN</td>\n",
       "      <td>...</td>\n",
       "      <td>34.290411</td>\n",
       "      <td>0:LIVING</td>\n",
       "      <td>0.0</td>\n",
       "      <td>364.0</td>\n",
       "      <td>NaN</td>\n",
       "      <td>1</td>\n",
       "      <td>Female</td>\n",
       "      <td>6.523881</td>\n",
       "      <td>7.21</td>\n",
       "      <td>MDS-del5q</td>\n",
       "    </tr>\n",
       "    <tr>\n",
       "      <th>2</th>\n",
       "      <td>mds_iwg_2022</td>\n",
       "      <td>E-H-100002</td>\n",
       "      <td>E-H-100002-T1-1-D1-1</td>\n",
       "      <td>72.0</td>\n",
       "      <td>0.49</td>\n",
       "      <td>15.0</td>\n",
       "      <td>cnloh</td>\n",
       "      <td>NaN</td>\n",
       "      <td>5q</td>\n",
       "      <td>17p</td>\n",
       "      <td>...</td>\n",
       "      <td>3.682192</td>\n",
       "      <td>1:DECEASED</td>\n",
       "      <td>0.0</td>\n",
       "      <td>35.0</td>\n",
       "      <td>NaN</td>\n",
       "      <td>1</td>\n",
       "      <td>Female</td>\n",
       "      <td>6.523881</td>\n",
       "      <td>2.60</td>\n",
       "      <td>MDS-EB2</td>\n",
       "    </tr>\n",
       "    <tr>\n",
       "      <th>3</th>\n",
       "      <td>mds_iwg_2022</td>\n",
       "      <td>E-H-100004</td>\n",
       "      <td>E-H-100004-T1-1-D1-1</td>\n",
       "      <td>40.0</td>\n",
       "      <td>1.56</td>\n",
       "      <td>3.0</td>\n",
       "      <td>normal</td>\n",
       "      <td>NaN</td>\n",
       "      <td>NaN</td>\n",
       "      <td>NaN</td>\n",
       "      <td>...</td>\n",
       "      <td>62.235616</td>\n",
       "      <td>0:LIVING</td>\n",
       "      <td>0.0</td>\n",
       "      <td>708.0</td>\n",
       "      <td>NaN</td>\n",
       "      <td>1</td>\n",
       "      <td>Female</td>\n",
       "      <td>4.349254</td>\n",
       "      <td>2.55</td>\n",
       "      <td>MDS/MPN-U</td>\n",
       "    </tr>\n",
       "    <tr>\n",
       "      <th>4</th>\n",
       "      <td>mds_iwg_2022</td>\n",
       "      <td>E-H-100005</td>\n",
       "      <td>E-H-100005-T1-1-D1-1</td>\n",
       "      <td>45.0</td>\n",
       "      <td>1.25</td>\n",
       "      <td>2.0</td>\n",
       "      <td>normal</td>\n",
       "      <td>NaN</td>\n",
       "      <td>NaN</td>\n",
       "      <td>NaN</td>\n",
       "      <td>...</td>\n",
       "      <td>67.758904</td>\n",
       "      <td>0:LIVING</td>\n",
       "      <td>0.0</td>\n",
       "      <td>141.0</td>\n",
       "      <td>NaN</td>\n",
       "      <td>1</td>\n",
       "      <td>Female</td>\n",
       "      <td>6.523881</td>\n",
       "      <td>2.31</td>\n",
       "      <td>MDS-MLD</td>\n",
       "    </tr>\n",
       "  </tbody>\n",
       "</table>\n",
       "<p>5 rows × 38 columns</p>\n",
       "</div>"
      ],
      "text/plain": [
       "       Study ID  Patient ID             Sample ID  Age in years   \\\n",
       "0  mds_iwg_2022  E-H-100000  E-H-100000-T1-1-D1-1           57.0   \n",
       "1  mds_iwg_2022  E-H-100001  E-H-100001-T1-1-D1-1           56.0   \n",
       "2  mds_iwg_2022  E-H-100002  E-H-100002-T1-1-D1-1           72.0   \n",
       "3  mds_iwg_2022  E-H-100004  E-H-100004-T1-1-D1-1           40.0   \n",
       "4  mds_iwg_2022  E-H-100005  E-H-100005-T1-1-D1-1           45.0   \n",
       "\n",
       "   Absolute Neutrophil Count (G/L)  BM Blast (%) Chromosomal Status at TP53  \\\n",
       "0                             4.65           3.0                     normal   \n",
       "1                             2.88           2.0                     normal   \n",
       "2                             0.49          15.0                      cnloh   \n",
       "3                             1.56           3.0                     normal   \n",
       "4                             1.25           2.0                     normal   \n",
       "\n",
       "  CNACS Called Chr Arm Gain CNACS Called Chr Arm Loss  \\\n",
       "0                       NaN                        5q   \n",
       "1                       NaN                        5q   \n",
       "2                       NaN                        5q   \n",
       "3                       NaN                       NaN   \n",
       "4                       NaN                       NaN   \n",
       "\n",
       "  CNACS Called Chr Arm Upd  ... Overall Survival (Months)  \\\n",
       "0                      NaN  ...                 69.830137   \n",
       "1                      NaN  ...                 34.290411   \n",
       "2                      17p  ...                  3.682192   \n",
       "3                      NaN  ...                 62.235616   \n",
       "4                      NaN  ...                 67.758904   \n",
       "\n",
       "  Overall Survival Status PB Blast (%) Platelet (G/L) Ringed Sideroblast (%)  \\\n",
       "0                0:LIVING          0.0          406.0                    NaN   \n",
       "1                0:LIVING          0.0          364.0                    NaN   \n",
       "2              1:DECEASED          0.0           35.0                    NaN   \n",
       "3                0:LIVING          0.0          708.0                    NaN   \n",
       "4                0:LIVING          0.0          141.0                    NaN   \n",
       "\n",
       "  Number of Samples Per Patient     Sex  TMB (nonsynonymous)  \\\n",
       "0                             1  Female            23.920896   \n",
       "1                             1  Female             6.523881   \n",
       "2                             1  Female             6.523881   \n",
       "3                             1  Female             4.349254   \n",
       "4                             1  Female             6.523881   \n",
       "\n",
       "  White Blood Cell Count (G/L)  WHO 2016 Classification  \n",
       "0                         7.50                MDS-del5q  \n",
       "1                         7.21                MDS-del5q  \n",
       "2                         2.60                  MDS-EB2  \n",
       "3                         2.55                MDS/MPN-U  \n",
       "4                         2.31                  MDS-MLD  \n",
       "\n",
       "[5 rows x 38 columns]"
      ]
     },
     "execution_count": 2,
     "metadata": {},
     "output_type": "execute_result"
    }
   ],
   "source": [
    "path = '../Dataset/Dataset.tsv'\n",
    "\n",
    "# Read the dataset\n",
    "df = pd.read_csv(path, sep='\\t')\n",
    "\n",
    "df.head()"
   ]
  },
  {
   "cell_type": "code",
   "execution_count": 3,
   "metadata": {},
   "outputs": [
    {
     "name": "stdout",
     "output_type": "stream",
     "text": [
      "<class 'pandas.core.frame.DataFrame'>\n",
      "RangeIndex: 3323 entries, 0 to 3322\n",
      "Data columns (total 35 columns):\n",
      " #   Column                           Non-Null Count  Dtype  \n",
      "---  ------                           --------------  -----  \n",
      " 0   Patient ID                       3323 non-null   object \n",
      " 1   Age in years                     3303 non-null   float64\n",
      " 2   Absolute Neutrophil Count (G/L)  3130 non-null   float64\n",
      " 3   BM Blast (%)                     3214 non-null   float64\n",
      " 4   Chromosomal Status at TP53       3323 non-null   object \n",
      " 5   CNACS Called Chr Arm Gain        159 non-null    object \n",
      " 6   CNACS Called Chr Arm Loss        668 non-null    object \n",
      " 7   CNACS Called Chr Arm Upd         359 non-null    object \n",
      " 8   CNACS Called Gene Gain           150 non-null    object \n",
      " 9   CNACS Called Gene Loss           647 non-null    object \n",
      " 10  CNACS Called Gene Upd            355 non-null    object \n",
      " 11  Complex Karyotype                3323 non-null   object \n",
      " 12  Cytogenetics                     2936 non-null   object \n",
      " 13  IPSS-R Cytogenetic Category      3177 non-null   object \n",
      " 14  FLT3 ITD                         3323 non-null   bool   \n",
      " 15  Hemoglobin (g/dL)                3213 non-null   float64\n",
      " 16  IPSS-M                           2701 non-null   object \n",
      " 17  IPSS-M Score                     2701 non-null   float64\n",
      " 18  IPSS-R                           3102 non-null   object \n",
      " 19  IPSS-R Score                     2988 non-null   float64\n",
      " 20  Leukemia Free Survival (Months)  2792 non-null   float64\n",
      " 21  Leukemia Free Survival Status    2792 non-null   object \n",
      " 22  Type of MDS                      3137 non-null   object \n",
      " 23  MLL PTD                          3323 non-null   bool   \n",
      " 24  Monocyte Count (G/L)             2722 non-null   float64\n",
      " 25  Mutation Count                   3227 non-null   float64\n",
      " 26  Overall Survival (Months)        3173 non-null   float64\n",
      " 27  Overall Survival Status          3173 non-null   object \n",
      " 28  PB Blast (%)                     2694 non-null   float64\n",
      " 29  Platelet (G/L)                   3199 non-null   float64\n",
      " 30  Ringed Sideroblast (%)           670 non-null    float64\n",
      " 31  Sex                              3323 non-null   object \n",
      " 32  TMB (nonsynonymous)              3323 non-null   float64\n",
      " 33  White Blood Cell Count (G/L)     3051 non-null   float64\n",
      " 34  WHO 2016 Classification          3236 non-null   object \n",
      "dtypes: bool(2), float64(15), object(18)\n",
      "memory usage: 863.3+ KB\n"
     ]
    }
   ],
   "source": [
    "#drop column Study ID\n",
    "df = df.drop(['Study ID'], axis=1)\n",
    "df = df.drop(['Sample ID'], axis=1)\n",
    "df = df.drop(['Number of Samples Per Patient'], axis=1)\n",
    "\n",
    "df.info()"
   ]
  },
  {
   "cell_type": "code",
   "execution_count": 4,
   "metadata": {},
   "outputs": [
    {
     "name": "stdout",
     "output_type": "stream",
     "text": [
      "Sex\t\n",
      "['Female' 'Male']\n",
      "total of uniques:  2\n",
      "------------------------\n",
      "TMB (nonsynonymous)\t\n",
      "[23.92089577  6.52388067  4.34925378 13.04776133 10.87313444  8.69850755\n",
      " 19.571642   17.39701511  2.17462689 21.74626888 15.22238822 32.61940333\n",
      " 26.09552266 28.27014955 36.9686571  91.33432931 30.44477644 56.5402991\n",
      " 45.66716466  0.        ]\n",
      "total of uniques:  20\n",
      "------------------------\n",
      "Mutation Count\t\n",
      "[11.  3.  2.  6.  5.  4.  9.  8.  1. 10.  7. 15. 12. 13. 17. 42. 14. 16.\n",
      " 26. 21.]\n",
      "total of uniques:  20\n",
      "------------------------\n",
      "Age in years \t\n",
      "[ 57.  56.  72.  40.  45.  54.  53.  60.  59.  33.  21.  63.  58.  67.\n",
      "  66.  61.  64.  29.  78.  73.  79.  70.  80.  52.  95.  77.  81.  65.\n",
      "  76.  83.  82.  50.  88.  87.  74.  62.  68.  75.  48.  55.  46.  51.\n",
      "  71.  85.  43.  69.  92.  44.  34.  49.  37.  84.  36.  47.  42.  23.\n",
      "  19.  22.  28.  41.  31.  91.  35.  89.  30.  86.  39.  38.  26.  18.\n",
      "  16. 100.  32.  93.  94.  90.  27.  99.  96.  97.  98.  24.  25.  12.]\n",
      "total of uniques:  84\n",
      "------------------------\n",
      "IPSS-R\t\n",
      "['Low' 'Very-High' 'Int' 'Very-Low' 'High']\n",
      "total of uniques:  5\n",
      "------------------------\n",
      "IPSS-M \t\n",
      "['Moderate-Low' 'Low' 'Very-High' 'Very-Low' 'Moderate-High' 'High']\n",
      "total of uniques:  6\n",
      "------------------------\n"
     ]
    }
   ],
   "source": [
    "QI = {'Age in years ', 'Sex', 'IPSS-M ', 'IPSS-R', 'Mutation Count', 'TMB (nonsynonymous)'}\n",
    "\n",
    "df.dropna(subset=QI, inplace=True)\n",
    "\n",
    "for col in QI:\n",
    "    print(col+'\\t')\n",
    "    n = len(df[col].unique())\n",
    "    print(df[col].unique())\n",
    "    print('total of uniques: ', n)\n",
    "    print('------------------------')"
   ]
  },
  {
   "cell_type": "code",
   "execution_count": 7,
   "metadata": {},
   "outputs": [
    {
     "name": "stdout",
     "output_type": "stream",
     "text": [
      "Unique value counts for Sex:\n",
      "(array(['Female', 'Male'], dtype=object), [1010, 1578])\n",
      "\n",
      "Unique value counts for TMB (nonsynonymous):\n",
      "(array([23.92089577,  6.52388067,  4.34925378, 13.04776133, 10.87313444,\n",
      "        8.69850755, 19.571642  , 17.39701511,  2.17462689, 21.74626888,\n",
      "       15.22238822, 32.61940333, 26.09552266, 28.27014955, 36.9686571 ,\n",
      "       91.33432931, 30.44477644, 56.5402991 , 45.66716466,  0.        ]), [34, 470, 334, 272, 354, 420, 85, 136, 202, 43, 196, 2, 22, 10, 1, 1, 2, 1, 2, 1])\n",
      "\n",
      "Unique value counts for Mutation Count:\n",
      "(array([11.,  3.,  2.,  6.,  5.,  4.,  9.,  8.,  1., 10.,  7., 15., 12.,\n",
      "       13., 17., 42., 14., 16., 26., 21.]), [33, 462, 333, 275, 355, 424, 82, 138, 197, 47, 200, 1, 22, 10, 1, 1, 3, 1, 1, 2])\n",
      "\n",
      "Unique value counts for Age in years :\n",
      "(array([ 57.,  56.,  72.,  40.,  45.,  54.,  53.,  60.,  59.,  33.,  21.,\n",
      "        63.,  58.,  67.,  66.,  61.,  64.,  29.,  78.,  73.,  79.,  70.,\n",
      "        80.,  52.,  95.,  77.,  81.,  65.,  76.,  83.,  82.,  50.,  88.,\n",
      "        87.,  74.,  62.,  68.,  75.,  48.,  55.,  46.,  51.,  71.,  85.,\n",
      "        43.,  69.,  92.,  44.,  34.,  49.,  37.,  84.,  36.,  47.,  42.,\n",
      "        23.,  19.,  22.,  28.,  41.,  31.,  91.,  35.,  89.,  30.,  86.,\n",
      "        39.,  38.,  26.,  18.,  16., 100.,  32.,  93.,  94.,  90.,  27.,\n",
      "        99.,  96.,  97.,  98.,  24.,  25.,  12.]), [43, 20, 87, 6, 13, 25, 15, 42, 44, 3, 3, 61, 38, 90, 53, 54, 57, 2, 92, 100, 94, 90, 84, 22, 4, 87, 83, 73, 108, 65, 92, 13, 17, 34, 102, 40, 88, 111, 9, 23, 13, 20, 80, 51, 9, 78, 8, 11, 2, 15, 4, 55, 6, 11, 7, 3, 2, 1, 2, 9, 3, 8, 4, 12, 3, 37, 7, 6, 2, 1, 1, 1, 5, 7, 2, 6, 2, 1, 1, 1, 1, 1, 1, 1])\n",
      "\n",
      "Unique value counts for IPSS-R:\n",
      "(array(['Low', 'Very-High', 'Int', 'Very-Low', 'High'], dtype=object), [989, 260, 539, 456, 344])\n",
      "\n",
      "Unique value counts for IPSS-M :\n",
      "(array(['Moderate-Low', 'Low', 'Very-High', 'Very-Low', 'Moderate-High',\n",
      "       'High'], dtype=object), [291, 837, 467, 351, 273, 369])\n",
      "\n"
     ]
    },
    {
     "data": {
      "image/png": "[encoded data removed]",
      "text/plain": [
       "<Figure size 640x480 with 1 Axes>"
      ]
     },
     "metadata": {},
     "output_type": "display_data"
    },
    {
     "name": "stdout",
     "output_type": "stream",
     "text": [
      "\t\n"
     ]
    },
    {
     "data": {
      "image/png": "[encoded data removed]",
      "text/plain": [
       "<Figure size 640x480 with 1 Axes>"
      ]
     },
     "metadata": {},
     "output_type": "display_data"
    },
    {
     "name": "stdout",
     "output_type": "stream",
     "text": [
      "\t\n"
     ]
    },
    {
     "data": {
      "image/png": "[encoded data removed]",
      "text/plain": [
       "<Figure size 640x480 with 1 Axes>"
      ]
     },
     "metadata": {},
     "output_type": "display_data"
    },
    {
     "name": "stdout",
     "output_type": "stream",
     "text": [
      "\t\n"
     ]
    },
    {
     "data": {
      "image/png": "[encoded data removed]",
      "text/plain": [
       "<Figure size 640x480 with 1 Axes>"
      ]
     },
     "metadata": {},
     "output_type": "display_data"
    },
    {
     "name": "stdout",
     "output_type": "stream",
     "text": [
      "\t\n"
     ]
    },
    {
     "data": {
      "image/png": "[encoded data removed]",
      "text/plain": [
       "<Figure size 640x480 with 1 Axes>"
      ]
     },
     "metadata": {},
     "output_type": "display_data"
    },
    {
     "name": "stdout",
     "output_type": "stream",
     "text": [
      "\t\n"
     ]
    },
    {
     "data": {
      "image/png": "[encoded data removed]",
      "text/plain": [
       "<Figure size 640x480 with 1 Axes>"
      ]
     },
     "metadata": {},
     "output_type": "display_data"
    },
    {
     "name": "stdout",
     "output_type": "stream",
     "text": [
      "\t\n"
     ]
    }
   ],
   "source": [
    "# for each QI unique value, count the number of records that have that value\n",
    "\n",
    "\n",
    "def get_unique_value_counts(df, qi):\n",
    "    unique_values = df[qi].unique()\n",
    "    unique_value_counts = []\n",
    "    for value in unique_values:\n",
    "        unique_value_counts.append(len(df[df[qi] == value]))\n",
    "    return unique_values, unique_value_counts\n",
    "\n",
    "for qi in QI:\n",
    "    print(\"Unique value counts for \" + qi + \":\")\n",
    "    print(get_unique_value_counts(df, qi))\n",
    "    print()\n",
    "\n",
    "for att in QI:\n",
    "    sns.histplot(data=df, x=att, bins=30)\n",
    "    plt.show()\n",
    "  \n",
    "    print('\\t')"
   ]
  },
  {
   "cell_type": "code",
   "execution_count": 102,
   "metadata": {},
   "outputs": [
    {
     "name": "stdout",
     "output_type": "stream",
     "text": [
      "TMB (nonsynonymous) : 0.0 , 91.33432931244822\n",
      "Age in years  : 12.0 , 100.0\n",
      "Mutation Count : 1.0 , 42.0\n",
      "Sex : Female , Male\n",
      "IPSS-R : High , Very-Low\n",
      "IPSS-M  : High , Very-Low\n"
     ]
    }
   ],
   "source": [
    "# print min and max of each column\n",
    "for col in QI:\n",
    "    print(col, ':', min(df[col]), ',', max(df[col]))"
   ]
  },
  {
   "cell_type": "markdown",
   "metadata": {},
   "source": [
    "## $k$-Anonimity"
   ]
  },
  {
   "cell_type": "code",
   "execution_count": 6,
   "metadata": {},
   "outputs": [
    {
     "data": {
      "text/html": [
       "<div>\n",
       "<style scoped>\n",
       "    .dataframe tbody tr th:only-of-type {\n",
       "        vertical-align: middle;\n",
       "    }\n",
       "\n",
       "    .dataframe tbody tr th {\n",
       "        vertical-align: top;\n",
       "    }\n",
       "\n",
       "    .dataframe thead th {\n",
       "        text-align: right;\n",
       "    }\n",
       "</style>\n",
       "<table border=\"1\" class=\"dataframe\">\n",
       "  <thead>\n",
       "    <tr style=\"text-align: right;\">\n",
       "      <th></th>\n",
       "      <th>Age in years</th>\n",
       "      <th>Sex</th>\n",
       "      <th>IPSS-M</th>\n",
       "      <th>IPSS-R</th>\n",
       "      <th>Mutation Count</th>\n",
       "      <th>TMB (nonsynonymous)</th>\n",
       "      <th>Count</th>\n",
       "    </tr>\n",
       "  </thead>\n",
       "  <tbody>\n",
       "    <tr>\n",
       "      <th>0</th>\n",
       "      <td>12.0</td>\n",
       "      <td>Male</td>\n",
       "      <td>Low</td>\n",
       "      <td>Low</td>\n",
       "      <td>2.0</td>\n",
       "      <td>4.349254</td>\n",
       "      <td>1</td>\n",
       "    </tr>\n",
       "    <tr>\n",
       "      <th>1</th>\n",
       "      <td>16.0</td>\n",
       "      <td>Female</td>\n",
       "      <td>Low</td>\n",
       "      <td>Int</td>\n",
       "      <td>3.0</td>\n",
       "      <td>6.523881</td>\n",
       "      <td>1</td>\n",
       "    </tr>\n",
       "    <tr>\n",
       "      <th>2</th>\n",
       "      <td>18.0</td>\n",
       "      <td>Female</td>\n",
       "      <td>Very-High</td>\n",
       "      <td>Int</td>\n",
       "      <td>5.0</td>\n",
       "      <td>10.873134</td>\n",
       "      <td>1</td>\n",
       "    </tr>\n",
       "    <tr>\n",
       "      <th>3</th>\n",
       "      <td>19.0</td>\n",
       "      <td>Female</td>\n",
       "      <td>Moderate-Low</td>\n",
       "      <td>Low</td>\n",
       "      <td>3.0</td>\n",
       "      <td>6.523881</td>\n",
       "      <td>1</td>\n",
       "    </tr>\n",
       "    <tr>\n",
       "      <th>4</th>\n",
       "      <td>19.0</td>\n",
       "      <td>Male</td>\n",
       "      <td>Very-High</td>\n",
       "      <td>Very-High</td>\n",
       "      <td>7.0</td>\n",
       "      <td>15.222388</td>\n",
       "      <td>1</td>\n",
       "    </tr>\n",
       "    <tr>\n",
       "      <th>...</th>\n",
       "      <td>...</td>\n",
       "      <td>...</td>\n",
       "      <td>...</td>\n",
       "      <td>...</td>\n",
       "      <td>...</td>\n",
       "      <td>...</td>\n",
       "      <td>...</td>\n",
       "    </tr>\n",
       "    <tr>\n",
       "      <th>2165</th>\n",
       "      <td>96.0</td>\n",
       "      <td>Male</td>\n",
       "      <td>Moderate-Low</td>\n",
       "      <td>Low</td>\n",
       "      <td>5.0</td>\n",
       "      <td>10.873134</td>\n",
       "      <td>1</td>\n",
       "    </tr>\n",
       "    <tr>\n",
       "      <th>2166</th>\n",
       "      <td>97.0</td>\n",
       "      <td>Male</td>\n",
       "      <td>Low</td>\n",
       "      <td>Low</td>\n",
       "      <td>4.0</td>\n",
       "      <td>6.523881</td>\n",
       "      <td>1</td>\n",
       "    </tr>\n",
       "    <tr>\n",
       "      <th>2167</th>\n",
       "      <td>98.0</td>\n",
       "      <td>Male</td>\n",
       "      <td>Low</td>\n",
       "      <td>Low</td>\n",
       "      <td>5.0</td>\n",
       "      <td>10.873134</td>\n",
       "      <td>1</td>\n",
       "    </tr>\n",
       "    <tr>\n",
       "      <th>2168</th>\n",
       "      <td>99.0</td>\n",
       "      <td>Male</td>\n",
       "      <td>Low</td>\n",
       "      <td>Low</td>\n",
       "      <td>5.0</td>\n",
       "      <td>10.873134</td>\n",
       "      <td>1</td>\n",
       "    </tr>\n",
       "    <tr>\n",
       "      <th>2169</th>\n",
       "      <td>100.0</td>\n",
       "      <td>Male</td>\n",
       "      <td>Very-High</td>\n",
       "      <td>Int</td>\n",
       "      <td>5.0</td>\n",
       "      <td>10.873134</td>\n",
       "      <td>1</td>\n",
       "    </tr>\n",
       "  </tbody>\n",
       "</table>\n",
       "<p>2170 rows × 7 columns</p>\n",
       "</div>"
      ],
      "text/plain": [
       "      Age in years      Sex       IPSS-M      IPSS-R  Mutation Count  \\\n",
       "0              12.0    Male           Low        Low             2.0   \n",
       "1              16.0  Female           Low        Int             3.0   \n",
       "2              18.0  Female     Very-High        Int             5.0   \n",
       "3              19.0  Female  Moderate-Low        Low             3.0   \n",
       "4              19.0    Male     Very-High  Very-High             7.0   \n",
       "...             ...     ...           ...        ...             ...   \n",
       "2165           96.0    Male  Moderate-Low        Low             5.0   \n",
       "2166           97.0    Male           Low        Low             4.0   \n",
       "2167           98.0    Male           Low        Low             5.0   \n",
       "2168           99.0    Male           Low        Low             5.0   \n",
       "2169          100.0    Male     Very-High        Int             5.0   \n",
       "\n",
       "      TMB (nonsynonymous)  Count  \n",
       "0                4.349254      1  \n",
       "1                6.523881      1  \n",
       "2               10.873134      1  \n",
       "3                6.523881      1  \n",
       "4               15.222388      1  \n",
       "...                   ...    ...  \n",
       "2165            10.873134      1  \n",
       "2166             6.523881      1  \n",
       "2167            10.873134      1  \n",
       "2168            10.873134      1  \n",
       "2169            10.873134      1  \n",
       "\n",
       "[2170 rows x 7 columns]"
      ]
     },
     "execution_count": 6,
     "metadata": {},
     "output_type": "execute_result"
    }
   ],
   "source": [
    "df.groupby(['Age in years ', 'Sex', 'IPSS-M ', 'IPSS-R', 'Mutation Count', 'TMB (nonsynonymous)']).size().reset_index(name='Count')"
   ]
  },
  {
   "cell_type": "markdown",
   "metadata": {},
   "source": [
    "### IPSS-M Generalization"
   ]
  },
  {
   "cell_type": "code",
   "execution_count": 35,
   "metadata": {},
   "outputs": [
    {
     "name": "stdout",
     "output_type": "stream",
     "text": [
      "Status OK.\n"
     ]
    }
   ],
   "source": [
    "gen_map_IPSS_M_lev_1 = {'Very-Low': 'Low Risks', 'Low': 'Low Risks', 'Moderate-Low': 'Moderate Risks', 'Moderate-High':'Moderate Risks', 'High': 'High Risks', 'Very-High': 'High Risks'}\n",
    "gen_map_IPSS_M_lev_2 = {'Low Risks': 'Low Risks', 'Moderate Risks': 'Not Low Risks', 'High Risks': 'Not Low Risks'}\n",
    "gen_map_IPSS_M_lev_3 = {'Low Risks': 'IPSS-M Risks', 'Not Low Risks': 'IPSS-M Risks'}\n",
    "\n",
    "\n",
    "df['IPSS-M L1'] = df['IPSS-M '].replace(gen_map_IPSS_M_lev_1)\n",
    "df['IPSS-M L2'] = df['IPSS-M L1'].replace(gen_map_IPSS_M_lev_2)\n",
    "df['IPSS-M L3'] = df['IPSS-M L2'].replace(gen_map_IPSS_M_lev_3)\n",
    "\n",
    "print('Status OK.')"
   ]
  },
  {
   "cell_type": "markdown",
   "metadata": {},
   "source": [
    "### IPSS-R Generalization"
   ]
  },
  {
   "cell_type": "code",
   "execution_count": 36,
   "metadata": {},
   "outputs": [
    {
     "name": "stdout",
     "output_type": "stream",
     "text": [
      "Status OK.\n"
     ]
    }
   ],
   "source": [
    "gen_map_IPSS_R_lev_1 = {'Very-Low': 'Low Risks', 'Low': 'Low Risks', 'Int': 'Intermidiate Risks', 'High': 'High Risks', 'Very-High': 'High Risks'}\n",
    "gen_map_IPSS_R_lev_2 = {'Low Risks': 'Low Risks', 'Intermidiate Risks': 'Not Low Risks', 'High Risks': 'Not Low Risks'}\n",
    "gen_map_IPSS_R_lev_3 = {'Low Risks': 'IPSS-R Risks', 'Not Low Risks': 'IPSS-R Risks'}\n",
    "\n",
    "df['IPSS-R L1'] = df['IPSS-R'].replace(gen_map_IPSS_R_lev_1)\n",
    "df['IPSS-R L2'] = df['IPSS-R L1'].replace(gen_map_IPSS_R_lev_2)\n",
    "df['IPSS-R L3'] = df['IPSS-R L2'].replace(gen_map_IPSS_R_lev_3)\n",
    "\n",
    "print('Status OK.')"
   ]
  },
  {
   "cell_type": "markdown",
   "metadata": {},
   "source": [
    "### Age Generalization"
   ]
  },
  {
   "cell_type": "code",
   "execution_count": 84,
   "metadata": {},
   "outputs": [
    {
     "name": "stdout",
     "output_type": "stream",
     "text": [
      "Status OK.\n"
     ]
    },
    {
     "data": {
      "text/plain": [
       "(11.999, 67.0]    901\n",
       "(67.0, 76.0]      844\n",
       "(76.0, 100.0]     843\n",
       "Name: Age intervals, dtype: int64"
      ]
     },
     "execution_count": 84,
     "metadata": {},
     "output_type": "execute_result"
    }
   ],
   "source": [
    "C_q_age_1 = 3\n",
    "C_q_age_2 = 4\n",
    "C_q_age_3 = 5\n",
    "\n",
    "df['Age intervals'] = pd.qcut(df['Age in years '], q = C_q_age_1)\n",
    "\n",
    "print('Status OK.')\n",
    "\n",
    "df['Age intervals'].value_counts()"
   ]
  },
  {
   "cell_type": "markdown",
   "metadata": {},
   "source": [
    "### Mutation Count Generalization"
   ]
  },
  {
   "cell_type": "code",
   "execution_count": 85,
   "metadata": {},
   "outputs": [
    {
     "name": "stdout",
     "output_type": "stream",
     "text": [
      "Status OK.\n"
     ]
    },
    {
     "data": {
      "text/plain": [
       "(0.999, 3.0]    992\n",
       "(5.0, 42.0]     817\n",
       "(3.0, 5.0]      779\n",
       "Name: Mutation Count intervals, dtype: int64"
      ]
     },
     "execution_count": 85,
     "metadata": {},
     "output_type": "execute_result"
    }
   ],
   "source": [
    "C_q_mc_1 = 3\n",
    "C_q_mc_2 = 3\n",
    "C_q_mc_3 = 5\n",
    "\n",
    "df['Mutation Count intervals'] = pd.qcut(df['Mutation Count'], q = C_q_mc_1)\n",
    "\n",
    "print('Status OK.')\n",
    "\n",
    "df['Mutation Count intervals'].value_counts()"
   ]
  },
  {
   "cell_type": "markdown",
   "metadata": {},
   "source": [
    "### TMB Generalization"
   ]
  },
  {
   "cell_type": "code",
   "execution_count": 86,
   "metadata": {},
   "outputs": [
    {
     "name": "stdout",
     "output_type": "stream",
     "text": [
      "Status OK.\n"
     ]
    },
    {
     "data": {
      "text/plain": [
       "(-0.0913, 30.445]    2581\n",
       "(30.445, 60.89]         6\n",
       "(60.89, 91.334]         1\n",
       "Name: TMB intervals, dtype: int64"
      ]
     },
     "execution_count": 86,
     "metadata": {},
     "output_type": "execute_result"
    }
   ],
   "source": [
    "bins_tmb_1 = 3\n",
    "bins_tmb_2 = 4\n",
    "bins_tmb_3 = 4\n",
    "\n",
    "df['TMB intervals'] = pd.cut(df['TMB (nonsynonymous)'], bins = bins_tmb_1)\n",
    "\n",
    "print('Status OK.')\n",
    "\n",
    "df['TMB intervals'].value_counts()"
   ]
  },
  {
   "cell_type": "code",
   "execution_count": 87,
   "metadata": {},
   "outputs": [
    {
     "data": {
      "text/html": [
       "<div>\n",
       "<style scoped>\n",
       "    .dataframe tbody tr th:only-of-type {\n",
       "        vertical-align: middle;\n",
       "    }\n",
       "\n",
       "    .dataframe tbody tr th {\n",
       "        vertical-align: top;\n",
       "    }\n",
       "\n",
       "    .dataframe thead th {\n",
       "        text-align: right;\n",
       "    }\n",
       "</style>\n",
       "<table border=\"1\" class=\"dataframe\">\n",
       "  <thead>\n",
       "    <tr style=\"text-align: right;\">\n",
       "      <th></th>\n",
       "      <th>Age intervals</th>\n",
       "      <th>TMB intervals</th>\n",
       "      <th>Mutation Count intervals</th>\n",
       "      <th>IPSS-R L1</th>\n",
       "      <th>IPSS-M L1</th>\n",
       "      <th>Count</th>\n",
       "    </tr>\n",
       "  </thead>\n",
       "  <tbody>\n",
       "    <tr>\n",
       "      <th>19</th>\n",
       "      <td>(11.999, 67.0]</td>\n",
       "      <td>(-0.0913, 30.445]</td>\n",
       "      <td>(5.0, 42.0]</td>\n",
       "      <td>High Risks</td>\n",
       "      <td>Low Risks</td>\n",
       "      <td>1</td>\n",
       "    </tr>\n",
       "    <tr>\n",
       "      <th>48</th>\n",
       "      <td>(11.999, 67.0]</td>\n",
       "      <td>(30.445, 60.89]</td>\n",
       "      <td>(5.0, 42.0]</td>\n",
       "      <td>Intermidiate Risks</td>\n",
       "      <td>High Risks</td>\n",
       "      <td>1</td>\n",
       "    </tr>\n",
       "    <tr>\n",
       "      <th>213</th>\n",
       "      <td>(76.0, 100.0]</td>\n",
       "      <td>(30.445, 60.89]</td>\n",
       "      <td>(5.0, 42.0]</td>\n",
       "      <td>Low Risks</td>\n",
       "      <td>High Risks</td>\n",
       "      <td>1</td>\n",
       "    </tr>\n",
       "    <tr>\n",
       "      <th>215</th>\n",
       "      <td>(76.0, 100.0]</td>\n",
       "      <td>(30.445, 60.89]</td>\n",
       "      <td>(5.0, 42.0]</td>\n",
       "      <td>Low Risks</td>\n",
       "      <td>Moderate Risks</td>\n",
       "      <td>1</td>\n",
       "    </tr>\n",
       "    <tr>\n",
       "      <th>172</th>\n",
       "      <td>(76.0, 100.0]</td>\n",
       "      <td>(-0.0913, 30.445]</td>\n",
       "      <td>(3.0, 5.0]</td>\n",
       "      <td>High Risks</td>\n",
       "      <td>Low Risks</td>\n",
       "      <td>1</td>\n",
       "    </tr>\n",
       "    <tr>\n",
       "      <th>...</th>\n",
       "      <td>...</td>\n",
       "      <td>...</td>\n",
       "      <td>...</td>\n",
       "      <td>...</td>\n",
       "      <td>...</td>\n",
       "      <td>...</td>\n",
       "    </tr>\n",
       "    <tr>\n",
       "      <th>97</th>\n",
       "      <td>(67.0, 76.0]</td>\n",
       "      <td>(-0.0913, 30.445]</td>\n",
       "      <td>(3.0, 5.0]</td>\n",
       "      <td>Low Risks</td>\n",
       "      <td>Low Risks</td>\n",
       "      <td>111</td>\n",
       "    </tr>\n",
       "    <tr>\n",
       "      <th>178</th>\n",
       "      <td>(76.0, 100.0]</td>\n",
       "      <td>(-0.0913, 30.445]</td>\n",
       "      <td>(3.0, 5.0]</td>\n",
       "      <td>Low Risks</td>\n",
       "      <td>Low Risks</td>\n",
       "      <td>135</td>\n",
       "    </tr>\n",
       "    <tr>\n",
       "      <th>169</th>\n",
       "      <td>(76.0, 100.0]</td>\n",
       "      <td>(-0.0913, 30.445]</td>\n",
       "      <td>(0.999, 3.0]</td>\n",
       "      <td>Low Risks</td>\n",
       "      <td>Low Risks</td>\n",
       "      <td>162</td>\n",
       "    </tr>\n",
       "    <tr>\n",
       "      <th>88</th>\n",
       "      <td>(67.0, 76.0]</td>\n",
       "      <td>(-0.0913, 30.445]</td>\n",
       "      <td>(0.999, 3.0]</td>\n",
       "      <td>Low Risks</td>\n",
       "      <td>Low Risks</td>\n",
       "      <td>182</td>\n",
       "    </tr>\n",
       "    <tr>\n",
       "      <th>7</th>\n",
       "      <td>(11.999, 67.0]</td>\n",
       "      <td>(-0.0913, 30.445]</td>\n",
       "      <td>(0.999, 3.0]</td>\n",
       "      <td>Low Risks</td>\n",
       "      <td>Low Risks</td>\n",
       "      <td>211</td>\n",
       "    </tr>\n",
       "  </tbody>\n",
       "</table>\n",
       "<p>81 rows × 6 columns</p>\n",
       "</div>"
      ],
      "text/plain": [
       "      Age intervals      TMB intervals Mutation Count intervals  \\\n",
       "19   (11.999, 67.0]  (-0.0913, 30.445]              (5.0, 42.0]   \n",
       "48   (11.999, 67.0]    (30.445, 60.89]              (5.0, 42.0]   \n",
       "213   (76.0, 100.0]    (30.445, 60.89]              (5.0, 42.0]   \n",
       "215   (76.0, 100.0]    (30.445, 60.89]              (5.0, 42.0]   \n",
       "172   (76.0, 100.0]  (-0.0913, 30.445]               (3.0, 5.0]   \n",
       "..              ...                ...                      ...   \n",
       "97     (67.0, 76.0]  (-0.0913, 30.445]               (3.0, 5.0]   \n",
       "178   (76.0, 100.0]  (-0.0913, 30.445]               (3.0, 5.0]   \n",
       "169   (76.0, 100.0]  (-0.0913, 30.445]             (0.999, 3.0]   \n",
       "88     (67.0, 76.0]  (-0.0913, 30.445]             (0.999, 3.0]   \n",
       "7    (11.999, 67.0]  (-0.0913, 30.445]             (0.999, 3.0]   \n",
       "\n",
       "              IPSS-R L1       IPSS-M L1  Count  \n",
       "19           High Risks       Low Risks      1  \n",
       "48   Intermidiate Risks      High Risks      1  \n",
       "213           Low Risks      High Risks      1  \n",
       "215           Low Risks  Moderate Risks      1  \n",
       "172          High Risks       Low Risks      1  \n",
       "..                  ...             ...    ...  \n",
       "97            Low Risks       Low Risks    111  \n",
       "178           Low Risks       Low Risks    135  \n",
       "169           Low Risks       Low Risks    162  \n",
       "88            Low Risks       Low Risks    182  \n",
       "7             Low Risks       Low Risks    211  \n",
       "\n",
       "[81 rows x 6 columns]"
      ]
     },
     "execution_count": 87,
     "metadata": {},
     "output_type": "execute_result"
    }
   ],
   "source": [
    "C_1 = ['Age intervals', 'TMB intervals','Mutation Count intervals', 'IPSS-R L1', 'IPSS-M L1']\n",
    "C_2 = ['Age intervals', 'TMB intervals','Mutation Count intervals', 'IPSS-R L1', 'IPSS-M L2']\n",
    "C_3 = ['Age intervals', 'TMB intervals','Mutation Count intervals', 'IPSS-R L2', 'IPSS-M L3']\n",
    "\n",
    "df_kAnon = df.groupby(C_1).size().reset_index(name='Count').sort_values('Count')\n",
    "# remove blocks where Count = 0\n",
    "df_kAnon = df_kAnon[df_kAnon['Count'] >= 1]\n",
    "df_kAnon"
   ]
  },
  {
   "cell_type": "code",
   "execution_count": 88,
   "metadata": {},
   "outputs": [
    {
     "name": "stdout",
     "output_type": "stream",
     "text": [
      "Sum of count:  108\n"
     ]
    }
   ],
   "source": [
    "df_kAnon = df.groupby(C_1).size().reset_index(name='Count').sort_values('Count')\n",
    "# remove blocks where Count = 0\n",
    "df_kAnon = df_kAnon[df_kAnon['Count'] <10]\n",
    "#print the sum of count\n",
    "print(\"Sum of count: \", sum(df_kAnon['Count']))"
   ]
  },
  {
   "cell_type": "code",
   "execution_count": null,
   "metadata": {},
   "outputs": [],
   "source": []
  }
 ],
 "metadata": {
  "kernelspec": {
   "display_name": "Python 3",
   "language": "python",
   "name": "python3"
  },
  "language_info": {
   "codemirror_mode": {
    "name": "ipython",
    "version": 3
   },
   "file_extension": ".py",
   "mimetype": "text/x-python",
   "name": "python",
   "nbconvert_exporter": "python",
   "pygments_lexer": "ipython3",
   "version": "3.10.12"
  },
  "orig_nbformat": 4
 },
 "nbformat": 4,
 "nbformat_minor": 2
}
